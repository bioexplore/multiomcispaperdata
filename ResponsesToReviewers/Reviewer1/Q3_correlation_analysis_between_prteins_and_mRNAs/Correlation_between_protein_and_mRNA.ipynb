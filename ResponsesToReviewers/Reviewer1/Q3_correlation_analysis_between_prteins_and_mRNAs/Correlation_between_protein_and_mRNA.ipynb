{
 "cells": [
  {
   "cell_type": "code",
   "execution_count": 1,
   "id": "ab6dbb99",
   "metadata": {},
   "outputs": [
    {
     "name": "stderr",
     "output_type": "stream",
     "text": [
      "C:\\Users\\bioex\\Anaconda3\\lib\\site-packages\\statsmodels\\tools\\_testing.py:19: FutureWarning: pandas.util.testing is deprecated. Use the functions in the public API at pandas.testing instead.\n",
      "  import pandas.util.testing as tm\n"
     ]
    }
   ],
   "source": [
    "# This notebook will redo the correlation analysis between mRNA and protein data\n",
    "# across all the 9 tested chemostat experiments\n",
    "import pandas as pd\n",
    "import numpy as np\n",
    "from scipy import stats\n",
    "from statsmodels.stats import multitest"
   ]
  },
  {
   "cell_type": "code",
   "execution_count": 2,
   "id": "f97970aa",
   "metadata": {},
   "outputs": [],
   "source": [
    "# Read in dataset for protein and mRNA seperately\n",
    "mRNA_data = pd.read_excel(\"pvsm_new.xlsx\",sheet_name='mRNA',index_col=0)\n",
    "protein_data = pd.read_excel(\"pvsm_new.xlsx\",sheet_name=\"Protome\",index_col=0)\n",
    "protein_data = protein_data.iloc[:,0:9]\n",
    "tmp_colnames = protein_data.columns\n",
    "protein_data.columns = ['D'+name[2:] if 'C_' in name else name for name in tmp_colnames]\n",
    "mRNA_data_T = mRNA_data.T\n",
    "protein_data_T = protein_data.T"
   ]
  },
  {
   "cell_type": "code",
   "execution_count": 51,
   "id": "470f1dad",
   "metadata": {},
   "outputs": [],
   "source": [
    "#Form the spearman correlation dataframe by using scipy.stats.spearman function\n",
    "m_names=mRNA_data_T.columns\n",
    "p_names=protein_data_T.columns\n",
    "names=[]\n",
    "corrcoefs=[]\n",
    "pvalues=[]\n",
    "for name in p_names:\n",
    "    if name in m_names:\n",
    "        mRNA = mRNA_data_T[name]\n",
    "        protein = protein_data_T[name]        \n",
    "        available_protein_num = sum(~protein.isna())\n",
    "        if available_protein_num<3 or name in ['YPR124W','YGR027C']:\n",
    "            continue\n",
    "        corr,p=stats.spearmanr(mRNA,protein,nan_policy='omit')\n",
    "        names.append(name)\n",
    "        corrcoefs.append(corr)\n",
    "        pvalues.append(p)\n",
    "pvsm_correlation_df = pd.DataFrame({'Name':names,'coef':corrcoefs,'pvalue':pvalues})"
   ]
  },
  {
   "cell_type": "code",
   "execution_count": 52,
   "id": "8c323704-47bb-43e2-aa56-7d8dd0e9b036",
   "metadata": {},
   "outputs": [],
   "source": [
    "#Get the FDR corrected p-values with a critical FDR = 0.05\n",
    "res=multitest.multipletests(pvsm_correlation_df.pvalue,method='fdr_tsbky')\n",
    "corrected_pvsm_correlation_df=pvsm_correlation_df.iloc[res[0],:]\n",
    "pvsm_correlation_df['pcorr']=res[1]\n",
    "pvsm_correlation_df['FDR<0.05']=res[0]\n",
    "#form a datestamp\n",
    "from datetime import date\n",
    "today = date.today()\n",
    "today_str=today.strftime('%Y%m%d')\n",
    "#pvsm_correlation_df.to_csv('corrected_pvsm_correlation_new'+today_str+'.csv')"
   ]
  },
  {
   "cell_type": "code",
   "execution_count": 80,
   "id": "8985a4ef",
   "metadata": {},
   "outputs": [
    {
     "data": {
      "text/html": [
       "<div>\n",
       "<style scoped>\n",
       "    .dataframe tbody tr th:only-of-type {\n",
       "        vertical-align: middle;\n",
       "    }\n",
       "\n",
       "    .dataframe tbody tr th {\n",
       "        vertical-align: top;\n",
       "    }\n",
       "\n",
       "    .dataframe thead th {\n",
       "        text-align: right;\n",
       "    }\n",
       "</style>\n",
       "<table border=\"1\" class=\"dataframe\">\n",
       "  <thead>\n",
       "    <tr style=\"text-align: right;\">\n",
       "      <th></th>\n",
       "      <th>name</th>\n",
       "      <th>coef</th>\n",
       "      <th>fdr</th>\n",
       "    </tr>\n",
       "  </thead>\n",
       "  <tbody>\n",
       "    <tr>\n",
       "      <th>0</th>\n",
       "      <td>a</td>\n",
       "      <td>1</td>\n",
       "      <td>True</td>\n",
       "    </tr>\n",
       "    <tr>\n",
       "      <th>1</th>\n",
       "      <td>b</td>\n",
       "      <td>2</td>\n",
       "      <td>True</td>\n",
       "    </tr>\n",
       "    <tr>\n",
       "      <th>2</th>\n",
       "      <td>c</td>\n",
       "      <td>4</td>\n",
       "      <td>True</td>\n",
       "    </tr>\n",
       "    <tr>\n",
       "      <th>3</th>\n",
       "      <td>d</td>\n",
       "      <td>-2</td>\n",
       "      <td>True</td>\n",
       "    </tr>\n",
       "    <tr>\n",
       "      <th>4</th>\n",
       "      <td>e</td>\n",
       "      <td>-1</td>\n",
       "      <td>False</td>\n",
       "    </tr>\n",
       "  </tbody>\n",
       "</table>\n",
       "</div>"
      ],
      "text/plain": [
       "  name coef    fdr\n",
       "0    a    1   True\n",
       "1    b    2   True\n",
       "2    c    4   True\n",
       "3    d   -2   True\n",
       "4    e   -1  False"
      ]
     },
     "execution_count": 80,
     "metadata": {},
     "output_type": "execute_result"
    }
   ],
   "source": [
    "# Topy testing\n",
    "# construct a toy dataframe\n",
    "name = ['a','b','c','d','e']\n",
    "coef = [1,2,4,-2,-1]\n",
    "fdr = [True,False,True,True,False]\n",
    "toy_dataframe = pd.DataFrame([name,coef,fdr]).T\n",
    "toy_dataframe.columns=['name','coef','fdr']\n",
    "toy_dataframe.loc[(~toy_dataframe.fdr)&(toy_dataframe.coef>0),'fdr']=True\n",
    "toy_dataframe"
   ]
  },
  {
   "cell_type": "code",
   "execution_count": 94,
   "id": "b2b0aca4",
   "metadata": {},
   "outputs": [
    {
     "name": "stdout",
     "output_type": "stream",
     "text": [
      "total rows: (2568, 5)\n"
     ]
    },
    {
     "data": {
      "text/plain": [
       "1       True\n",
       "3       True\n",
       "4       True\n",
       "5       True\n",
       "6       True\n",
       "        ... \n",
       "2549    True\n",
       "2550    True\n",
       "2558    True\n",
       "2561    True\n",
       "2562    True\n",
       "Name: FDR<0.05, Length: 932, dtype: bool"
      ]
     },
     "execution_count": 94,
     "metadata": {},
     "output_type": "execute_result"
    }
   ],
   "source": [
    "# A trying\n",
    "#print('total rows:',pvsm_correlation_df.shape)\n",
    "#new_pvsm_correlation_df = pvsm_correlation_df.copy()\n",
    "#new_pvsm_correlation_df.loc[(pvsm_correlation_df['FDR<0.05'])&(pvsm_correlation_df.coef<=0),'FDR<0.05']=False\n",
    "#new_pvsm_correlation_df.loc[(pvsm_correlation_df['FDR<0.05'])&(pvsm_correlation_df.coef>0),'FDR<0.05']"
   ]
  },
  {
   "cell_type": "code",
   "execution_count": 99,
   "id": "41e8eca8",
   "metadata": {},
   "outputs": [],
   "source": [
    "# hist plot of the correlation coefficient distribution between protein/mRNA pair\n",
    "import matplotlib.pyplot as plt\n",
    "import seaborn as sns\n",
    "\n",
    "#Do the hist plot\n",
    "# Modify plot by selecting positive significant correlation out, 20211114\n",
    "new_pvsm_correlation_df = pvsm_correlation_df.copy()\n",
    "new_pvsm_correlation_df.loc[(pvsm_correlation_df['FDR<0.05'])&(pvsm_correlation_df.coef<=0),'FDR<0.05']=False\n",
    "ax=sns.histplot(new_pvsm_correlation_df,x=\"coef\",hue=\"FDR<0.05\",kde=True)#,color='black',hist_kws={'linewidth':2,'edgecolor':'black','facecolor':'white'})\n",
    "\n",
    "#Setting filled density curves\n",
    "for l in ax.lines:\n",
    "    x1 = l.get_xydata()[:,0]\n",
    "    y1 = l.get_xydata()[:,1]\n",
    "    ax.fill_between(x1,y1,color=l.get_color(),alpha=0.4)\n",
    "#Set x axis limit\n",
    "ax.set_xlim(-1,1.1)\n",
    "#Prepare for annotation in figure\n",
    "ratio_accepted = sum(new_pvsm_correlation_df[\"FDR<0.05\"])/len(new_pvsm_correlation_df[\"FDR<0.05\"])\n",
    "ratio_rejected = 1 - ratio_accepted\n",
    "str_accepted = 'Area ratio: %0.2f'%ratio_accepted\n",
    "str_rejected = 'Area ratio: %0.2f'%ratio_rejected\n",
    "#Do annotation for the two density distribution curves\n",
    "ax.annotate(str_accepted,(0.9,200),(-150,20),textcoords='offset points',color='red',fontsize=12,arrowprops=dict(color='black'))\n",
    "ax.annotate(str_rejected,(0.6,90),(-150,30),textcoords='offset points',color='blue',fontsize=12,arrowprops=dict(color='black'))\n",
    "\n",
    "#Formatting the figure\n",
    "ax.set_xlabel('Spearman correlation coefficient',fontsize=12)\n",
    "ax.set_ylabel('Count',fontsize=12)\n",
    "plt.xticks(fontsize=12)\n",
    "plt.yticks(fontsize=12)\n",
    "ax.xaxis.set_tick_params(width=2)\n",
    "ax.yaxis.set_tick_params(width=2)\n",
    "ax.spines.top.set_visible(False)\n",
    "ax.spines.right.set_visible(False)\n",
    "ax.spines.bottom.set_linewidth(2)\n",
    "ax.spines.left.set_linewidth(2)\n",
    "ax.plot(1.01,0,\">k\",transform=ax.get_yaxis_transform(),clip_on=False)\n",
    "ax.plot(-1,1,\"^k\",transform=ax.get_xaxis_transform(),clip_on=False)\n",
    "ax.figure.tight_layout()\n",
    "#plt.show()\n",
    "plt.savefig('Histplot_of_protein_mRNA_correlation'+today_str+'.png',dpi=300,format='png')"
   ]
  }
 ],
 "metadata": {
  "kernelspec": {
   "display_name": "Python 3",
   "language": "python",
   "name": "python3"
  },
  "language_info": {
   "codemirror_mode": {
    "name": "ipython",
    "version": 3
   },
   "file_extension": ".py",
   "mimetype": "text/x-python",
   "name": "python",
   "nbconvert_exporter": "python",
   "pygments_lexer": "ipython3",
   "version": "3.7.3"
  }
 },
 "nbformat": 4,
 "nbformat_minor": 5
}
